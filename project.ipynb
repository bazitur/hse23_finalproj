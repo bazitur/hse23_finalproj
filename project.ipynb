{
 "cells": [
  {
   "attachments": {},
   "cell_type": "markdown",
   "metadata": {},
   "source": [
    "Перенесем на сервер phf8.fa (самый длинный изоформ)"
   ]
  },
  {
   "cell_type": "code",
   "execution_count": 1,
   "metadata": {},
   "outputs": [
    {
     "name": "stdout",
     "output_type": "stream",
     "text": [
      "/mnt/storage/project_2023/proteomes/c.elegans.faa\n",
      "/mnt/storage/project_2023/proteomes/ciliate.faa\n",
      "/mnt/storage/project_2023/proteomes/drosophila.faa\n",
      "/mnt/storage/project_2023/proteomes/e.coli.faa\n",
      "/mnt/storage/project_2023/proteomes/human.faa\n",
      "/mnt/storage/project_2023/proteomes/methanocaldococcus.faa\n",
      "/mnt/storage/project_2023/proteomes/mouse.faa\n",
      "/mnt/storage/project_2023/proteomes/thermococcus.faa\n",
      "/mnt/storage/project_2023/proteomes/tuberculosis.faa\n",
      "/mnt/storage/project_2023/proteomes/yeast.faa\n",
      "/mnt/storage/project_2023/proteomes/zebrafish.faa\n"
     ]
    }
   ],
   "source": [
    "!ls /mnt/storage/project_2023/proteomes/*.faa"
   ]
  },
  {
   "cell_type": "code",
   "execution_count": 2,
   "metadata": {},
   "outputs": [
    {
     "name": "stdout",
     "output_type": "stream",
     "text": [
      "'project (2).ipynb'   proj.ipynb\n"
     ]
    }
   ],
   "source": [
    "!ls"
   ]
  },
  {
   "cell_type": "code",
   "execution_count": 3,
   "metadata": {},
   "outputs": [],
   "source": [
    "import subprocess\n",
    "import glob\n",
    "import os\n",
    "\n",
    "path_calc = \"/mnt/storage/project_2023/proteomes\"\n",
    "output_path = \"/home/vsmiturich/project\"\n",
    "input_files = sorted(glob.glob(f\"{path_calc}/*.faa\"))\n",
    "output_files = [os.path.splitext(os.path.basename(file))[0] for file in input_files]\n",
    "\n",
    "def run_blastp(input, output):\n",
    "    cmd = f\"blastp -query taf3.fa -db {input} -out TAF3_{output}.blast -outfmt 7\"\n",
    "    subprocess.run(cmd, shell=True, stdout=subprocess.DEVNULL)\n",
    "\n",
    "for input, output in zip(input_files, output_files):\n",
    "    run_blastp(input, output)"
   ]
  },
  {
   "attachments": {},
   "cell_type": "markdown",
   "metadata": {},
   "source": [
    "Перенесем в папку проекта один белок из каждого гистона (H2A_single.fasta, H2B_single.fasta, ...)"
   ]
  },
  {
   "cell_type": "code",
   "execution_count": 5,
   "metadata": {},
   "outputs": [],
   "source": [
    "import subprocess\n",
    "import glob\n",
    "import os\n",
    "\n",
    "path1 = \"/home/vsmiturich/project/\"\n",
    "path2 = \"/mnt/storage/project_2023/proteomes\"\n",
    "input_files1 = sorted(glob.glob(f\"{path1}/*single.fasta\"))\n",
    "input_files2 = sorted(glob.glob(f\"{path2}/*.faa\"))\n",
    "\n",
    "def run_blastp(input1, input2):\n",
    "    output_path = \"/home/vsmiturich/project\"\n",
    "    histone_name = os.path.basename(input1).replace(\"_single.fasta\", \"\")\n",
    "    proteome_name = os.path.basename(input2).replace(\".faa\", \"\")\n",
    "    output = os.path.join(output_path, f\"{histone_name}_{proteome_name}\")\n",
    "    cmd = f\"blastp -query {input1} -db {input2} -out {output}.blast -outfmt 7\"\n",
    "    subprocess.run(cmd, shell=True, stdout=subprocess.DEVNULL)\n",
    "\n",
    "for input1 in input_files1:\n",
    "    for input2 in input_files2:\n",
    "        run_blastp(input1, input2)"
   ]
  },
  {
   "cell_type": "code",
   "execution_count": 6,
   "metadata": {},
   "outputs": [],
   "source": [
    "import os\n",
    "import pandas as pd\n",
    "\n",
    "def parse_blast_files(directory):\n",
    "    blast_files = [file for file in os.listdir(directory) if file.endswith('.blast')]\n",
    "\n",
    "    path1 = \"/mnt/storage/project_2023/histones\"\n",
    "    path2 = \"/mnt/storage/project_2023/proteomes\"\n",
    "    input_files1 = sorted(glob.glob(f\"{path1}/*.fasta\"))\n",
    "    input_files2 = sorted(glob.glob(f\"{path2}/*.faa\"))\n",
    "\n",
    "    histones = [os.path.splitext(os.path.basename(file))[0] for file in input_files1]\n",
    "    histones.append('TAF3')\n",
    "    # proteomes = [os.path.splitext(os.path.basename(file))[0] for file in input_files2]\n",
    "    proteomes = ['human','mouse','zebrafish','drosophila','c.elegans',\n",
    "                 'ciliate','yeast','methanocaldococcus','thermococcus','e.coli','tuberculosis']\n",
    "\n",
    "    data = []\n",
    "    for file in blast_files:\n",
    "        file_path = os.path.join(directory, file)\n",
    "        with open(file_path, 'r') as f:\n",
    "            lines = f.readlines()\n",
    "        \n",
    "        first_evalue = lines[5].split('\\t')[10].strip()\n",
    "        if float(first_evalue) > 1:\n",
    "            first_evalue = '1'\n",
    "        elif float(first_evalue) < 1e-300:\n",
    "            first_evalue = '1e-300'\n",
    "        data.append((os.path.splitext(file)[0], first_evalue))\n",
    "    \n",
    "    df = pd.DataFrame(data, columns=['Histone_proteome', 'Evalue'])\n",
    "\n",
    "    result_df = pd.DataFrame(index=histones, columns=proteomes)\n",
    "\n",
    "    for row in df.itertuples(index=False):\n",
    "        proteome = row.Histone_proteome.split('_')[1]\n",
    "        histone = row.Histone_proteome.split('_', 1)[0]\n",
    "        result_df.at[histone, proteome] = row.Evalue\n",
    "\n",
    "    result_df.to_csv('blast_results.csv')\n",
    "    return result_df\n",
    "\n",
    "directory_path = \"/home/vsmiturich/project/\"\n",
    "result_df = parse_blast_files(directory_path)"
   ]
  },
  {
   "cell_type": "code",
   "execution_count": 7,
   "metadata": {},
   "outputs": [
    {
     "data": {
      "text/html": [
       "<div>\n",
       "<style scoped>\n",
       "    .dataframe tbody tr th:only-of-type {\n",
       "        vertical-align: middle;\n",
       "    }\n",
       "\n",
       "    .dataframe tbody tr th {\n",
       "        vertical-align: top;\n",
       "    }\n",
       "\n",
       "    .dataframe thead th {\n",
       "        text-align: right;\n",
       "    }\n",
       "</style>\n",
       "<table border=\"1\" class=\"dataframe\">\n",
       "  <thead>\n",
       "    <tr style=\"text-align: right;\">\n",
       "      <th></th>\n",
       "      <th>human</th>\n",
       "      <th>mouse</th>\n",
       "      <th>zebrafish</th>\n",
       "      <th>drosophila</th>\n",
       "      <th>c.elegans</th>\n",
       "      <th>ciliate</th>\n",
       "      <th>yeast</th>\n",
       "      <th>methanocaldococcus</th>\n",
       "      <th>thermococcus</th>\n",
       "      <th>e.coli</th>\n",
       "      <th>tuberculosis</th>\n",
       "    </tr>\n",
       "  </thead>\n",
       "  <tbody>\n",
       "    <tr>\n",
       "      <th>H2A</th>\n",
       "      <td>4.94e-91</td>\n",
       "      <td>4.57e-84</td>\n",
       "      <td>1.06e-81</td>\n",
       "      <td>2.34e-69</td>\n",
       "      <td>6.53e-67</td>\n",
       "      <td>2.45e-57</td>\n",
       "      <td>8.88e-63</td>\n",
       "      <td>0.001</td>\n",
       "      <td>0.15</td>\n",
       "      <td>1</td>\n",
       "      <td>0.40</td>\n",
       "    </tr>\n",
       "    <tr>\n",
       "      <th>H2B</th>\n",
       "      <td>2.85e-87</td>\n",
       "      <td>1.15e-83</td>\n",
       "      <td>1.85e-71</td>\n",
       "      <td>3.30e-59</td>\n",
       "      <td>5.28e-65</td>\n",
       "      <td>1.91e-49</td>\n",
       "      <td>3.07e-57</td>\n",
       "      <td>1</td>\n",
       "      <td>0.17</td>\n",
       "      <td>1</td>\n",
       "      <td>1</td>\n",
       "    </tr>\n",
       "    <tr>\n",
       "      <th>H3</th>\n",
       "      <td>2.19e-96</td>\n",
       "      <td>1.54e-96</td>\n",
       "      <td>1.77e-95</td>\n",
       "      <td>9.39e-96</td>\n",
       "      <td>4.46e-94</td>\n",
       "      <td>8.41e-86</td>\n",
       "      <td>3.31e-87</td>\n",
       "      <td>0.034</td>\n",
       "      <td>0.057</td>\n",
       "      <td>0.90</td>\n",
       "      <td>1</td>\n",
       "    </tr>\n",
       "    <tr>\n",
       "      <th>H4</th>\n",
       "      <td>1.09e-67</td>\n",
       "      <td>7.60e-68</td>\n",
       "      <td>1.13e-68</td>\n",
       "      <td>8.02e-68</td>\n",
       "      <td>6.15e-68</td>\n",
       "      <td>1.96e-45</td>\n",
       "      <td>1.08e-52</td>\n",
       "      <td>8.22e-05</td>\n",
       "      <td>3.31e-05</td>\n",
       "      <td>1</td>\n",
       "      <td>0.069</td>\n",
       "    </tr>\n",
       "    <tr>\n",
       "      <th>TAF3</th>\n",
       "      <td>1e-300</td>\n",
       "      <td>1e-300</td>\n",
       "      <td>1.31e-75</td>\n",
       "      <td>7.97e-24</td>\n",
       "      <td>1.38e-17</td>\n",
       "      <td>7.57e-07</td>\n",
       "      <td>5.87e-07</td>\n",
       "      <td>0.61</td>\n",
       "      <td>1</td>\n",
       "      <td>1</td>\n",
       "      <td>1</td>\n",
       "    </tr>\n",
       "  </tbody>\n",
       "</table>\n",
       "</div>"
      ],
      "text/plain": [
       "         human     mouse zebrafish drosophila c.elegans   ciliate     yeast  \\\n",
       "H2A   4.94e-91  4.57e-84  1.06e-81   2.34e-69  6.53e-67  2.45e-57  8.88e-63   \n",
       "H2B   2.85e-87  1.15e-83  1.85e-71   3.30e-59  5.28e-65  1.91e-49  3.07e-57   \n",
       "H3    2.19e-96  1.54e-96  1.77e-95   9.39e-96  4.46e-94  8.41e-86  3.31e-87   \n",
       "H4    1.09e-67  7.60e-68  1.13e-68   8.02e-68  6.15e-68  1.96e-45  1.08e-52   \n",
       "TAF3    1e-300    1e-300  1.31e-75   7.97e-24  1.38e-17  7.57e-07  5.87e-07   \n",
       "\n",
       "     methanocaldococcus thermococcus e.coli tuberculosis  \n",
       "H2A               0.001         0.15      1         0.40  \n",
       "H2B                   1         0.17      1            1  \n",
       "H3                0.034        0.057   0.90            1  \n",
       "H4             8.22e-05     3.31e-05      1        0.069  \n",
       "TAF3               0.61            1      1            1  "
      ]
     },
     "execution_count": 7,
     "metadata": {},
     "output_type": "execute_result"
    }
   ],
   "source": [
    "result_df"
   ]
  },
  {
   "cell_type": "code",
   "execution_count": 8,
   "metadata": {},
   "outputs": [
    {
     "data": {
      "text/html": [
       "<div>\n",
       "<style scoped>\n",
       "    .dataframe tbody tr th:only-of-type {\n",
       "        vertical-align: middle;\n",
       "    }\n",
       "\n",
       "    .dataframe tbody tr th {\n",
       "        vertical-align: top;\n",
       "    }\n",
       "\n",
       "    .dataframe thead th {\n",
       "        text-align: right;\n",
       "    }\n",
       "</style>\n",
       "<table border=\"1\" class=\"dataframe\">\n",
       "  <thead>\n",
       "    <tr style=\"text-align: right;\">\n",
       "      <th></th>\n",
       "      <th>human</th>\n",
       "      <th>mouse</th>\n",
       "      <th>zebrafish</th>\n",
       "      <th>drosophila</th>\n",
       "      <th>c.elegans</th>\n",
       "      <th>ciliate</th>\n",
       "      <th>yeast</th>\n",
       "      <th>methanocaldococcus</th>\n",
       "      <th>thermococcus</th>\n",
       "      <th>e.coli</th>\n",
       "      <th>tuberculosis</th>\n",
       "    </tr>\n",
       "  </thead>\n",
       "  <tbody>\n",
       "    <tr>\n",
       "      <th>H2A</th>\n",
       "      <td>90.306273</td>\n",
       "      <td>83.340084</td>\n",
       "      <td>80.974694</td>\n",
       "      <td>68.630784</td>\n",
       "      <td>66.185087</td>\n",
       "      <td>56.610834</td>\n",
       "      <td>62.051587</td>\n",
       "      <td>3.000000</td>\n",
       "      <td>0.823909</td>\n",
       "      <td>0.000000</td>\n",
       "      <td>0.397940</td>\n",
       "    </tr>\n",
       "    <tr>\n",
       "      <th>H2B</th>\n",
       "      <td>86.545155</td>\n",
       "      <td>82.939302</td>\n",
       "      <td>70.732828</td>\n",
       "      <td>58.481486</td>\n",
       "      <td>64.277366</td>\n",
       "      <td>48.718967</td>\n",
       "      <td>56.512862</td>\n",
       "      <td>0.000000</td>\n",
       "      <td>0.769551</td>\n",
       "      <td>0.000000</td>\n",
       "      <td>0.000000</td>\n",
       "    </tr>\n",
       "    <tr>\n",
       "      <th>H3</th>\n",
       "      <td>95.659556</td>\n",
       "      <td>95.812479</td>\n",
       "      <td>94.752027</td>\n",
       "      <td>95.027334</td>\n",
       "      <td>93.350665</td>\n",
       "      <td>85.075204</td>\n",
       "      <td>86.480172</td>\n",
       "      <td>1.468521</td>\n",
       "      <td>1.244125</td>\n",
       "      <td>0.045757</td>\n",
       "      <td>0.000000</td>\n",
       "    </tr>\n",
       "    <tr>\n",
       "      <th>H4</th>\n",
       "      <td>66.962574</td>\n",
       "      <td>67.119186</td>\n",
       "      <td>67.946922</td>\n",
       "      <td>67.095826</td>\n",
       "      <td>67.211125</td>\n",
       "      <td>44.707744</td>\n",
       "      <td>51.966576</td>\n",
       "      <td>4.085128</td>\n",
       "      <td>4.480172</td>\n",
       "      <td>0.000000</td>\n",
       "      <td>1.161151</td>\n",
       "    </tr>\n",
       "    <tr>\n",
       "      <th>TAF3</th>\n",
       "      <td>300.000000</td>\n",
       "      <td>300.000000</td>\n",
       "      <td>74.882729</td>\n",
       "      <td>23.098542</td>\n",
       "      <td>16.860121</td>\n",
       "      <td>6.120904</td>\n",
       "      <td>6.231362</td>\n",
       "      <td>0.214670</td>\n",
       "      <td>0.000000</td>\n",
       "      <td>0.000000</td>\n",
       "      <td>0.000000</td>\n",
       "    </tr>\n",
       "  </tbody>\n",
       "</table>\n",
       "</div>"
      ],
      "text/plain": [
       "           human       mouse  zebrafish  drosophila  c.elegans    ciliate  \\\n",
       "H2A    90.306273   83.340084  80.974694   68.630784  66.185087  56.610834   \n",
       "H2B    86.545155   82.939302  70.732828   58.481486  64.277366  48.718967   \n",
       "H3     95.659556   95.812479  94.752027   95.027334  93.350665  85.075204   \n",
       "H4     66.962574   67.119186  67.946922   67.095826  67.211125  44.707744   \n",
       "TAF3  300.000000  300.000000  74.882729   23.098542  16.860121   6.120904   \n",
       "\n",
       "          yeast  methanocaldococcus  thermococcus    e.coli  tuberculosis  \n",
       "H2A   62.051587            3.000000      0.823909  0.000000      0.397940  \n",
       "H2B   56.512862            0.000000      0.769551  0.000000      0.000000  \n",
       "H3    86.480172            1.468521      1.244125  0.045757      0.000000  \n",
       "H4    51.966576            4.085128      4.480172  0.000000      1.161151  \n",
       "TAF3   6.231362            0.214670      0.000000  0.000000      0.000000  "
      ]
     },
     "execution_count": 8,
     "metadata": {},
     "output_type": "execute_result"
    }
   ],
   "source": [
    "import numpy as np\n",
    "def df_to_log(result_df):\n",
    "    log_df = result_df.copy()\n",
    "    log_df = np.abs(np.log10(log_df.apply(pd.to_numeric)))\n",
    "    return log_df\n",
    "\n",
    "log_df = df_to_log(result_df)\n",
    "log_df.to_csv('blast_results_log.csv')\n",
    "log_df"
   ]
  },
  {
   "cell_type": "code",
   "execution_count": 21,
   "metadata": {},
   "outputs": [],
   "source": [
    "log_df[\"mouse\"].loc[\"TAF3\"] = 100"
   ]
  },
  {
   "cell_type": "code",
   "execution_count": 22,
   "metadata": {},
   "outputs": [
    {
     "data": {
      "text/plain": [
       "<Axes: >"
      ]
     },
     "execution_count": 22,
     "metadata": {},
     "output_type": "execute_result"
    },
    {
     "data": {
      "image/png": "[encoded data removed]",
      "text/plain": [
       "<Figure size 900x450 with 2 Axes>"
      ]
     },
     "metadata": {},
     "output_type": "display_data"
    }
   ],
   "source": [
    "import seaborn as sns\n",
    "import matplotlib.pyplot as plt\n",
    "\n",
    "plt.figure(figsize=(6, 3), dpi=150)\n",
    "sns.heatmap(log_df, cmap='Blues')"
   ]
  },
  {
   "cell_type": "code",
   "execution_count": 11,
   "metadata": {},
   "outputs": [
    {
     "name": "stdout",
     "output_type": "stream",
     "text": [
      "TAF3_mouse.blast 104\n",
      "TAF3_human.blast 127\n",
      "TAF3_yeast.blast 27\n",
      "TAF3_thermococcus.blast 9\n",
      "TAF3_ciliate.blast 56\n",
      "TAF3_c.elegans.blast 76\n",
      "TAF3_zebrafish.blast 77\n",
      "TAF3_e.coli.blast 5\n",
      "TAF3_drosophila.blast 156\n",
      "TAF3_tuberculosis.blast 4\n",
      "TAF3_methanocaldococcus.blast 8\n"
     ]
    }
   ],
   "source": [
    "data = []\n",
    "directory_path = \"/home/vsmiturich/project/\"\n",
    "blast_files = [file for file in os.listdir(directory_path) if file.endswith('.blast')]\n",
    "for file in blast_files:\n",
    "    if file.startswith(\"TAF3_\"):\n",
    "        file_path = os.path.join(directory_path, file)\n",
    "        with open(file_path, 'r') as f:\n",
    "            lines = f.readlines()\n",
    "        \n",
    "        # Extract the evalue from the 5th line\n",
    "        hits_found = lines[4].split(' ')[1]\n",
    "        print(file, hits_found)"
   ]
  }
 ],
 "metadata": {
  "kernelspec": {
   "display_name": "base",
   "language": "python",
   "name": "python3"
  },
  "language_info": {
   "codemirror_mode": {
    "name": "ipython",
    "version": 3
   },
   "file_extension": ".py",
   "mimetype": "text/x-python",
   "name": "python",
   "nbconvert_exporter": "python",
   "pygments_lexer": "ipython3",
   "version": "3.10.10"
  },
  "orig_nbformat": 4
 },
 "nbformat": 4,
 "nbformat_minor": 2
}
